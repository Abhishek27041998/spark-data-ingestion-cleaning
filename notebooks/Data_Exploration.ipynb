{
 "cells": [
  {
   "cell_type": "markdown",
   "id": "bf186291-13f0-4577-824e-e0e2e703a9f7",
   "metadata": {},
   "source": [
    "# 1. Import necessary libraries"
   ]
  },
  {
   "cell_type": "code",
   "execution_count": 45,
   "id": "c3ab489b-86e7-4e75-bf92-cc793b106dd3",
   "metadata": {},
   "outputs": [],
   "source": [
    "from pyspark.sql import SparkSession\n",
    "from pyspark.sql.functions import col, regexp_extract, regexp_replace, split, from_unixtime\n",
    "import pyspark.sql.functions as F"
   ]
  },
  {
   "cell_type": "markdown",
   "id": "5f6ef6f5-0b85-49e0-a9ad-8d18c13ec2e9",
   "metadata": {},
   "source": [
    "# 2. Creating a Spark Session"
   ]
  },
  {
   "cell_type": "code",
   "execution_count": 2,
   "id": "873a7041-a660-45f4-a343-38f8a127e233",
   "metadata": {},
   "outputs": [
    {
     "name": "stderr",
     "output_type": "stream",
     "text": [
      "Setting default log level to \"WARN\".\n",
      "To adjust logging level use sc.setLogLevel(newLevel). For SparkR, use setLogLevel(newLevel).\n",
      "25/02/22 16:58:08 WARN NativeCodeLoader: Unable to load native-hadoop library for your platform... using builtin-java classes where applicable\n"
     ]
    }
   ],
   "source": [
    "spark = SparkSession.builder.appName('data-exploration').getOrCreate()"
   ]
  },
  {
   "cell_type": "markdown",
   "id": "970ed0da-27af-4802-8b61-513b80fe9e3d",
   "metadata": {},
   "source": [
    "# 3. Define CSV file paths"
   ]
  },
  {
   "cell_type": "code",
   "execution_count": 3,
   "id": "5a809ad6-3950-4193-bdd0-3cec005f8a1f",
   "metadata": {},
   "outputs": [
    {
     "name": "stdout",
     "output_type": "stream",
     "text": [
      "File paths are :\n",
      " /Users/test/PycharmProjects/spark-data-ingestion-cleaning/data/raw/ml-latest-small/links.csv \n",
      " /Users/test/PycharmProjects/spark-data-ingestion-cleaning/data/raw/ml-latest-small/movies.csv \n",
      " /Users/test/PycharmProjects/spark-data-ingestion-cleaning/data/raw/ml-latest-small/ratings.csv \n",
      " /Users/test/PycharmProjects/spark-data-ingestion-cleaning/data/raw/ml-latest-small/tags.csv\n"
     ]
    }
   ],
   "source": [
    "import os\n",
    "\n",
    "# Get the current directory\n",
    "current_dir = os.getcwd()\n",
    "\n",
    "# Calculate the base directory (one level up)\n",
    "base_dir = os.path.abspath(os.path.join(current_dir, \"..\"))\n",
    "\n",
    "# Construct the file path in a parameterized way:\n",
    "links_csv_path = os.path.join(base_dir, \"data\", \"raw\", \"ml-latest-small\", \"links.csv\")\n",
    "movies_csv_path = os.path.join(base_dir, \"data\", \"raw\", \"ml-latest-small\", \"movies.csv\")\n",
    "ratings_csv_path = os.path.join(base_dir, \"data\", \"raw\", \"ml-latest-small\", \"ratings.csv\")\n",
    "tags_csv_path = os.path.join(base_dir, \"data\", \"raw\", \"ml-latest-small\", \"tags.csv\")\n",
    "\n",
    "print(\"File paths are :\")\n",
    "print(f\" {links_csv_path} \\n {movies_csv_path} \\n {ratings_csv_path} \\n {tags_csv_path}\")"
   ]
  },
  {
   "cell_type": "markdown",
   "id": "e753fd3a-601a-4087-b5ad-0555189d504b",
   "metadata": {},
   "source": [
    "# 4. Analysing Movies CSV file"
   ]
  },
  {
   "cell_type": "markdown",
   "id": "a4ef8bc7-f822-49fc-b1a3-0689d0e2ab15",
   "metadata": {},
   "source": [
    "## 4.1 Read and display sample & count"
   ]
  },
  {
   "cell_type": "code",
   "execution_count": 4,
   "id": "4eb5369a-3c4a-49a6-bf8d-1bfdcc4e7fc3",
   "metadata": {},
   "outputs": [
    {
     "name": "stdout",
     "output_type": "stream",
     "text": [
      "+-------+----------------------------------+-------------------------------------------+\n",
      "|movieId|title                             |genres                                     |\n",
      "+-------+----------------------------------+-------------------------------------------+\n",
      "|1      |Toy Story (1995)                  |Adventure|Animation|Children|Comedy|Fantasy|\n",
      "|2      |Jumanji (1995)                    |Adventure|Children|Fantasy                 |\n",
      "|3      |Grumpier Old Men (1995)           |Comedy|Romance                             |\n",
      "|4      |Waiting to Exhale (1995)          |Comedy|Drama|Romance                       |\n",
      "|5      |Father of the Bride Part II (1995)|Comedy                                     |\n",
      "|6      |Heat (1995)                       |Action|Crime|Thriller                      |\n",
      "|7      |Sabrina (1995)                    |Comedy|Romance                             |\n",
      "|8      |Tom and Huck (1995)               |Adventure|Children                         |\n",
      "|9      |Sudden Death (1995)               |Action                                     |\n",
      "|10     |GoldenEye (1995)                  |Action|Adventure|Thriller                  |\n",
      "+-------+----------------------------------+-------------------------------------------+\n",
      "only showing top 10 rows\n",
      "\n",
      "Movies count : 9742\n"
     ]
    }
   ],
   "source": [
    "movies_df = spark.read.csv(movies_csv_path, header=\"true\")\n",
    "\n",
    "movies_df.show(10, False)\n",
    "\n",
    "print(f\"Movies count : {movies_df.count()}\")"
   ]
  },
  {
   "cell_type": "markdown",
   "id": "e64723bc-e474-430e-96c4-ed75dfdb188b",
   "metadata": {},
   "source": [
    "## 4.2 Verify distinct matches count"
   ]
  },
  {
   "cell_type": "code",
   "execution_count": 5,
   "id": "b2ccc67b-5f66-4f18-9185-4ac62ed378ac",
   "metadata": {},
   "outputs": [
    {
     "name": "stdout",
     "output_type": "stream",
     "text": [
      "Movies distinct count : 9742\n",
      "Movies 'movieId' distinct count : 9742\n",
      "Movies 'title' distinct count : 9737 (---different)\n",
      "Movies 'genres' distinct count : 951 (--can have duplicates)\n"
     ]
    }
   ],
   "source": [
    "print(f\"Movies distinct count : {movies_df.distinct().count()}\")\n",
    "\n",
    "print(f\"Movies 'movieId' distinct count : {movies_df.select('movieId').distinct().count()}\")\n",
    "\n",
    "print(f\"Movies 'title' distinct count : {movies_df.select('title').distinct().count()} (---different)\")\n",
    "\n",
    "print(f\"Movies 'genres' distinct count : {movies_df.select('genres').distinct().count()} (--can have duplicates)\")"
   ]
  },
  {
   "cell_type": "markdown",
   "id": "94cb127c-7679-4ad5-a94f-b3193fd2824c",
   "metadata": {},
   "source": [
    "## 4.3 Lets analyse duplicate titles"
   ]
  },
  {
   "cell_type": "code",
   "execution_count": 6,
   "id": "5899d457-bf7f-45e1-b502-baaf9afa1eb5",
   "metadata": {},
   "outputs": [
    {
     "name": "stdout",
     "output_type": "stream",
     "text": [
      "Titles that are duplicates are \n",
      "+--------------------------------------+-----+\n",
      "|title                                 |count|\n",
      "+--------------------------------------+-----+\n",
      "|Eros (2004)                           |2    |\n",
      "|Confessions of a Dangerous Mind (2002)|2    |\n",
      "|Emma (1996)                           |2    |\n",
      "|Saturn 3 (1980)                       |2    |\n",
      "|War of the Worlds (2005)              |2    |\n",
      "|Fair Game (1995)                      |1    |\n",
      "|If Lucy Fell (1996)                   |1    |\n",
      "|Three Wishes (1995)                   |1    |\n",
      "|Heavenly Creatures (1994)             |1    |\n",
      "|Snow White and the Seven Dwarfs (1937)|1    |\n",
      "+--------------------------------------+-----+\n",
      "only showing top 10 rows\n",
      "\n"
     ]
    }
   ],
   "source": [
    "print(\"Titles that are duplicates are \")\n",
    "\n",
    "duplicate_titles_df = movies_df.groupBy('title').count().orderBy('count', ascending=False)\n",
    "\n",
    "duplicate_titles_df.show(10, False)"
   ]
  },
  {
   "cell_type": "code",
   "execution_count": 7,
   "id": "2ae35af2-c585-4532-88b6-e42c586d9415",
   "metadata": {},
   "outputs": [
    {
     "name": "stdout",
     "output_type": "stream",
     "text": [
      "+-------+--------------------------------------+-----------------------------------+\n",
      "|movieId|title                                 |genres                             |\n",
      "+-------+--------------------------------------+-----------------------------------+\n",
      "|6003   |Confessions of a Dangerous Mind (2002)|Comedy|Crime|Drama|Thriller        |\n",
      "|144606 |Confessions of a Dangerous Mind (2002)|Comedy|Crime|Drama|Romance|Thriller|\n",
      "|838    |Emma (1996)                           |Comedy|Drama|Romance               |\n",
      "|26958  |Emma (1996)                           |Romance                            |\n",
      "|32600  |Eros (2004)                           |Drama                              |\n",
      "|147002 |Eros (2004)                           |Drama|Romance                      |\n",
      "|2851   |Saturn 3 (1980)                       |Adventure|Sci-Fi|Thriller          |\n",
      "|168358 |Saturn 3 (1980)                       |Sci-Fi|Thriller                    |\n",
      "|34048  |War of the Worlds (2005)              |Action|Adventure|Sci-Fi|Thriller   |\n",
      "|64997  |War of the Worlds (2005)              |Action|Sci-Fi                      |\n",
      "+-------+--------------------------------------+-----------------------------------+\n",
      "\n",
      "Movies have same titles but different slight different genres\n"
     ]
    }
   ],
   "source": [
    "# Lets see the duplicate title rows\n",
    "duplicate_titles = duplicate_titles_df.filter(col('count') > 1).select('title').collect()\n",
    "\n",
    "duplicate_titles = [row['title'] for row in duplicate_titles]\n",
    "\n",
    "movies_df.filter(col('title').isin(duplicate_titles)).orderBy('title').show(20, False)\n",
    "\n",
    "print('Movies have same titles but different slight different genres')"
   ]
  },
  {
   "cell_type": "markdown",
   "id": "8add9641-b42c-4b64-9ba6-0e24b135c9f5",
   "metadata": {},
   "source": [
    "## 4.4 Top 20 Genres"
   ]
  },
  {
   "cell_type": "code",
   "execution_count": 8,
   "id": "020e51db-48cd-4c0c-bdc6-f2996d2dedfe",
   "metadata": {},
   "outputs": [
    {
     "name": "stdout",
     "output_type": "stream",
     "text": [
      "Top 20 genres are \n",
      "+-----------------------+-----+\n",
      "|genres                 |count|\n",
      "+-----------------------+-----+\n",
      "|Drama                  |1053 |\n",
      "|Comedy                 |946  |\n",
      "|Comedy|Drama           |435  |\n",
      "|Comedy|Romance         |363  |\n",
      "|Drama|Romance          |349  |\n",
      "|Documentary            |339  |\n",
      "|Comedy|Drama|Romance   |276  |\n",
      "|Drama|Thriller         |168  |\n",
      "|Horror                 |167  |\n",
      "|Horror|Thriller        |135  |\n",
      "|Crime|Drama            |134  |\n",
      "|Crime|Drama|Thriller   |125  |\n",
      "|Drama|War              |114  |\n",
      "|Comedy|Crime           |101  |\n",
      "|Action|Comedy          |92   |\n",
      "|Thriller               |84   |\n",
      "|Children|Comedy        |74   |\n",
      "|Comedy|Horror          |69   |\n",
      "|Action|Crime|Thriller  |66   |\n",
      "|Action|Adventure|Sci-Fi|66   |\n",
      "+-----------------------+-----+\n",
      "only showing top 20 rows\n",
      "\n"
     ]
    }
   ],
   "source": [
    "print(\"Top 20 genres are \")\n",
    "\n",
    "movies_df.groupBy('genres').count().orderBy('count', ascending=False).show(20, False)"
   ]
  },
  {
   "cell_type": "markdown",
   "id": "91c45434-fe2e-43d5-afff-1cf349d6825f",
   "metadata": {},
   "source": [
    "## 4.5 Extract year from title"
   ]
  },
  {
   "cell_type": "code",
   "execution_count": 9,
   "id": "fc48b756-44cf-49ad-a7b8-ce480b8439cc",
   "metadata": {},
   "outputs": [
    {
     "name": "stdout",
     "output_type": "stream",
     "text": [
      "+-------+--------------------+--------------------+----+\n",
      "|movieId|               title|              genres|year|\n",
      "+-------+--------------------+--------------------+----+\n",
      "|      1|    Toy Story (1995)|Adventure|Animati...|1995|\n",
      "|      2|      Jumanji (1995)|Adventure|Childre...|1995|\n",
      "|      3|Grumpier Old Men ...|      Comedy|Romance|1995|\n",
      "|      4|Waiting to Exhale...|Comedy|Drama|Romance|1995|\n",
      "|      5|Father of the Bri...|              Comedy|1995|\n",
      "|      6|         Heat (1995)|Action|Crime|Thri...|1995|\n",
      "|      7|      Sabrina (1995)|      Comedy|Romance|1995|\n",
      "|      8| Tom and Huck (1995)|  Adventure|Children|1995|\n",
      "|      9| Sudden Death (1995)|              Action|1995|\n",
      "|     10|    GoldenEye (1995)|Action|Adventure|...|1995|\n",
      "|     11|American Presiden...|Comedy|Drama|Romance|1995|\n",
      "|     12|Dracula: Dead and...|       Comedy|Horror|1995|\n",
      "|     13|        Balto (1995)|Adventure|Animati...|1995|\n",
      "|     14|        Nixon (1995)|               Drama|1995|\n",
      "|     15|Cutthroat Island ...|Action|Adventure|...|1995|\n",
      "|     16|       Casino (1995)|         Crime|Drama|1995|\n",
      "|     17|Sense and Sensibi...|       Drama|Romance|1995|\n",
      "|     18|   Four Rooms (1995)|              Comedy|1995|\n",
      "|     19|Ace Ventura: When...|              Comedy|1995|\n",
      "|     20|  Money Train (1995)|Action|Comedy|Cri...|1995|\n",
      "+-------+--------------------+--------------------+----+\n",
      "only showing top 20 rows\n",
      "\n",
      "root\n",
      " |-- movieId: string (nullable = true)\n",
      " |-- title: string (nullable = true)\n",
      " |-- genres: string (nullable = true)\n",
      " |-- year: integer (nullable = true)\n",
      "\n"
     ]
    }
   ],
   "source": [
    "movies_df = movies_df.withColumn(\"year\", regexp_extract(\"title\", r\"\\((\\d{4})\\)\", 1).cast('int'))\n",
    "movies_df.show()\n",
    "movies_df.printSchema()"
   ]
  },
  {
   "cell_type": "markdown",
   "id": "7a6559ce-2801-4fae-915e-1b9bb71d76aa",
   "metadata": {},
   "source": [
    "## 4.6 Update title"
   ]
  },
  {
   "cell_type": "code",
   "execution_count": 10,
   "id": "7775d8ac-b594-4a23-907c-67b030dc882a",
   "metadata": {},
   "outputs": [
    {
     "name": "stdout",
     "output_type": "stream",
     "text": [
      "+-------+------------------------------+-------------------------------------------+----+\n",
      "|movieId|title                         |genres                                     |year|\n",
      "+-------+------------------------------+-------------------------------------------+----+\n",
      "|1      |Toy Story                     |Adventure|Animation|Children|Comedy|Fantasy|1995|\n",
      "|2      |Jumanji                       |Adventure|Children|Fantasy                 |1995|\n",
      "|3      |Grumpier Old Men              |Comedy|Romance                             |1995|\n",
      "|4      |Waiting to Exhale             |Comedy|Drama|Romance                       |1995|\n",
      "|5      |Father of the Bride Part II   |Comedy                                     |1995|\n",
      "|6      |Heat                          |Action|Crime|Thriller                      |1995|\n",
      "|7      |Sabrina                       |Comedy|Romance                             |1995|\n",
      "|8      |Tom and Huck                  |Adventure|Children                         |1995|\n",
      "|9      |Sudden Death                  |Action                                     |1995|\n",
      "|10     |GoldenEye                     |Action|Adventure|Thriller                  |1995|\n",
      "|11     |American President, The       |Comedy|Drama|Romance                       |1995|\n",
      "|12     |Dracula: Dead and Loving It   |Comedy|Horror                              |1995|\n",
      "|13     |Balto                         |Adventure|Animation|Children               |1995|\n",
      "|14     |Nixon                         |Drama                                      |1995|\n",
      "|15     |Cutthroat Island              |Action|Adventure|Romance                   |1995|\n",
      "|16     |Casino                        |Crime|Drama                                |1995|\n",
      "|17     |Sense and Sensibility         |Drama|Romance                              |1995|\n",
      "|18     |Four Rooms                    |Comedy                                     |1995|\n",
      "|19     |Ace Ventura: When Nature Calls|Comedy                                     |1995|\n",
      "|20     |Money Train                   |Action|Comedy|Crime|Drama|Thriller         |1995|\n",
      "+-------+------------------------------+-------------------------------------------+----+\n",
      "only showing top 20 rows\n",
      "\n",
      "root\n",
      " |-- movieId: string (nullable = true)\n",
      " |-- title: string (nullable = true)\n",
      " |-- genres: string (nullable = true)\n",
      " |-- year: integer (nullable = true)\n",
      "\n"
     ]
    }
   ],
   "source": [
    "movies_df = movies_df.withColumn(\"title\", regexp_replace(\"title\", r\"\\s*\\(\\d{4}\\)\", \"\"))\n",
    "movies_df.show(truncate=False)\n",
    "movies_df.printSchema()"
   ]
  },
  {
   "cell_type": "markdown",
   "id": "c912c36f-47f2-4d1b-a4ef-2c07cb902a26",
   "metadata": {},
   "source": [
    "## 4.7 Update genres to array of string field"
   ]
  },
  {
   "cell_type": "code",
   "execution_count": 11,
   "id": "31280e07-51ad-4800-a78d-5717a767ca65",
   "metadata": {},
   "outputs": [
    {
     "name": "stdout",
     "output_type": "stream",
     "text": [
      "+-------+------------------------------+-------------------------------------------------+----+\n",
      "|movieId|title                         |genres                                           |year|\n",
      "+-------+------------------------------+-------------------------------------------------+----+\n",
      "|1      |Toy Story                     |[Adventure, Animation, Children, Comedy, Fantasy]|1995|\n",
      "|2      |Jumanji                       |[Adventure, Children, Fantasy]                   |1995|\n",
      "|3      |Grumpier Old Men              |[Comedy, Romance]                                |1995|\n",
      "|4      |Waiting to Exhale             |[Comedy, Drama, Romance]                         |1995|\n",
      "|5      |Father of the Bride Part II   |[Comedy]                                         |1995|\n",
      "|6      |Heat                          |[Action, Crime, Thriller]                        |1995|\n",
      "|7      |Sabrina                       |[Comedy, Romance]                                |1995|\n",
      "|8      |Tom and Huck                  |[Adventure, Children]                            |1995|\n",
      "|9      |Sudden Death                  |[Action]                                         |1995|\n",
      "|10     |GoldenEye                     |[Action, Adventure, Thriller]                    |1995|\n",
      "|11     |American President, The       |[Comedy, Drama, Romance]                         |1995|\n",
      "|12     |Dracula: Dead and Loving It   |[Comedy, Horror]                                 |1995|\n",
      "|13     |Balto                         |[Adventure, Animation, Children]                 |1995|\n",
      "|14     |Nixon                         |[Drama]                                          |1995|\n",
      "|15     |Cutthroat Island              |[Action, Adventure, Romance]                     |1995|\n",
      "|16     |Casino                        |[Crime, Drama]                                   |1995|\n",
      "|17     |Sense and Sensibility         |[Drama, Romance]                                 |1995|\n",
      "|18     |Four Rooms                    |[Comedy]                                         |1995|\n",
      "|19     |Ace Ventura: When Nature Calls|[Comedy]                                         |1995|\n",
      "|20     |Money Train                   |[Action, Comedy, Crime, Drama, Thriller]         |1995|\n",
      "+-------+------------------------------+-------------------------------------------------+----+\n",
      "only showing top 20 rows\n",
      "\n",
      "root\n",
      " |-- movieId: string (nullable = true)\n",
      " |-- title: string (nullable = true)\n",
      " |-- genres: array (nullable = true)\n",
      " |    |-- element: string (containsNull = false)\n",
      " |-- year: integer (nullable = true)\n",
      "\n"
     ]
    },
    {
     "name": "stderr",
     "output_type": "stream",
     "text": [
      "<>:1: SyntaxWarning: invalid escape sequence '\\|'\n",
      "<>:1: SyntaxWarning: invalid escape sequence '\\|'\n",
      "/var/folders/6p/9_tr2qd547z3qqk4y2m03bn40000gn/T/ipykernel_1136/2816293204.py:1: SyntaxWarning: invalid escape sequence '\\|'\n",
      "  movies_df = movies_df.withColumn(\"genres\", split(\"genres\", \"\\|\"))\n"
     ]
    }
   ],
   "source": [
    "movies_df = movies_df.withColumn(\"genres\", split(\"genres\", \"\\|\"))\n",
    "\n",
    "movies_df.show(truncate=False)\n",
    "movies_df.printSchema()"
   ]
  },
  {
   "cell_type": "markdown",
   "id": "35e8cf54-dd13-43da-a512-4faef20f198d",
   "metadata": {},
   "source": [
    "# 5. Analysing Ratings CSV file"
   ]
  },
  {
   "cell_type": "markdown",
   "id": "87b69bb2-fee3-4e6d-a383-ae2d0692681d",
   "metadata": {},
   "source": [
    "## 5.1 Read and Display rows and count"
   ]
  },
  {
   "cell_type": "code",
   "execution_count": 60,
   "id": "3bea4dca-32a6-42c9-befb-c8019aba9149",
   "metadata": {},
   "outputs": [
    {
     "name": "stdout",
     "output_type": "stream",
     "text": [
      "+------+-------+------+---------+\n",
      "|userId|movieId|rating|timestamp|\n",
      "+------+-------+------+---------+\n",
      "|1     |1      |4.0   |964982703|\n",
      "|1     |3      |4.0   |964981247|\n",
      "|1     |6      |4.0   |964982224|\n",
      "|1     |47     |5.0   |964983815|\n",
      "|1     |50     |5.0   |964982931|\n",
      "|1     |70     |3.0   |964982400|\n",
      "|1     |101    |5.0   |964980868|\n",
      "|1     |110    |4.0   |964982176|\n",
      "|1     |151    |5.0   |964984041|\n",
      "|1     |157    |5.0   |964984100|\n",
      "+------+-------+------+---------+\n",
      "only showing top 10 rows\n",
      "\n",
      "Ratings count : 100836\n",
      "root\n",
      " |-- userId: string (nullable = true)\n",
      " |-- movieId: string (nullable = true)\n",
      " |-- rating: string (nullable = true)\n",
      " |-- timestamp: string (nullable = true)\n",
      "\n"
     ]
    }
   ],
   "source": [
    "ratings_df = spark.read.csv(ratings_csv_path, header=\"true\")\n",
    "\n",
    "ratings_df.show(10, False)\n",
    "\n",
    "print(f\"Ratings count : {ratings_df.count()}\")\n",
    "\n",
    "ratings_df.printSchema()"
   ]
  },
  {
   "cell_type": "markdown",
   "id": "3acfe768-f4b9-4de9-96db-9dedd270b300",
   "metadata": {},
   "source": [
    "## 5.2 Unique users and movies"
   ]
  },
  {
   "cell_type": "code",
   "execution_count": 27,
   "id": "ba3c8af0-0d45-4a4d-b81e-b6225550f369",
   "metadata": {},
   "outputs": [
    {
     "name": "stdout",
     "output_type": "stream",
     "text": [
      "Unique User ids: 610\n"
     ]
    }
   ],
   "source": [
    "print(f\"Unique User ids: {ratings_df.select('userId').distinct().count()}\")"
   ]
  },
  {
   "cell_type": "code",
   "execution_count": 28,
   "id": "2d18c929-20c8-4272-b6a3-1008cda2ce03",
   "metadata": {},
   "outputs": [
    {
     "name": "stdout",
     "output_type": "stream",
     "text": [
      "Unique Movie ids (=equals movies count from above): 9724\n"
     ]
    }
   ],
   "source": [
    "print(f\"Unique Movie ids (=equals movies count from above): {ratings_df.select('movieId').distinct().count()}\")"
   ]
  },
  {
   "cell_type": "code",
   "execution_count": 29,
   "id": "4ad8fcc6-cd14-4c14-a784-2253516dc3f2",
   "metadata": {},
   "outputs": [
    {
     "name": "stdout",
     "output_type": "stream",
     "text": [
      "Unique ratings: 10\n"
     ]
    }
   ],
   "source": [
    "print(f\"Unique ratings: {ratings_df.select('rating').distinct().count()}\")"
   ]
  },
  {
   "cell_type": "markdown",
   "id": "818ebb01-9c92-42df-bede-097063aa022a",
   "metadata": {},
   "source": [
    "## 5.3 Process timestamp to convert it"
   ]
  },
  {
   "cell_type": "code",
   "execution_count": 30,
   "id": "d331ed31-5eef-4bf9-ae7c-ebee8ee6e4a2",
   "metadata": {},
   "outputs": [
    {
     "name": "stdout",
     "output_type": "stream",
     "text": [
      "+------+-------+------+-------------------+\n",
      "|userId|movieId|rating|timestamp          |\n",
      "+------+-------+------+-------------------+\n",
      "|1     |1      |4.0   |2000-07-31 00:15:03|\n",
      "|1     |3      |4.0   |2000-07-30 23:50:47|\n",
      "|1     |6      |4.0   |2000-07-31 00:07:04|\n",
      "|1     |47     |5.0   |2000-07-31 00:33:35|\n",
      "|1     |50     |5.0   |2000-07-31 00:18:51|\n",
      "|1     |70     |3.0   |2000-07-31 00:10:00|\n",
      "|1     |101    |5.0   |2000-07-30 23:44:28|\n",
      "|1     |110    |4.0   |2000-07-31 00:06:16|\n",
      "|1     |151    |5.0   |2000-07-31 00:37:21|\n",
      "|1     |157    |5.0   |2000-07-31 00:38:20|\n",
      "|1     |163    |5.0   |2000-07-31 00:30:50|\n",
      "|1     |216    |5.0   |2000-07-30 23:50:08|\n",
      "|1     |223    |3.0   |2000-07-30 23:46:25|\n",
      "|1     |231    |5.0   |2000-07-30 23:49:39|\n",
      "|1     |235    |4.0   |2000-07-30 23:45:08|\n",
      "|1     |260    |5.0   |2000-07-30 23:58:00|\n",
      "|1     |296    |3.0   |2000-07-31 00:19:27|\n",
      "|1     |316    |3.0   |2000-07-31 00:08:30|\n",
      "|1     |333    |5.0   |2000-07-30 23:49:39|\n",
      "|1     |349    |4.0   |2000-07-31 00:12:43|\n",
      "+------+-------+------+-------------------+\n",
      "only showing top 20 rows\n",
      "\n"
     ]
    }
   ],
   "source": [
    "ratings_df = ratings_df.withColumn(\"timestamp\", from_unixtime(col(\"timestamp\").cast(\"long\")))\n",
    "\n",
    "ratings_df.show(20, False)"
   ]
  },
  {
   "cell_type": "markdown",
   "id": "cf1bbc43-176f-43d2-9d6e-94be85f4b28c",
   "metadata": {},
   "source": [
    "## 5.4 Ratings per movie (count)"
   ]
  },
  {
   "cell_type": "code",
   "execution_count": 34,
   "id": "7a5cadfa-a984-4d4d-8753-486fad779ce9",
   "metadata": {},
   "outputs": [
    {
     "name": "stdout",
     "output_type": "stream",
     "text": [
      "+-------+-----+\n",
      "|movieId|count|\n",
      "+-------+-----+\n",
      "|356    |329  |\n",
      "|318    |317  |\n",
      "|296    |307  |\n",
      "|593    |279  |\n",
      "|2571   |278  |\n",
      "|260    |251  |\n",
      "|480    |238  |\n",
      "|110    |237  |\n",
      "|589    |224  |\n",
      "|527    |220  |\n",
      "|2959   |218  |\n",
      "|1      |215  |\n",
      "|1196   |211  |\n",
      "|2858   |204  |\n",
      "|50     |204  |\n",
      "|47     |203  |\n",
      "|780    |202  |\n",
      "|150    |201  |\n",
      "|1198   |200  |\n",
      "|4993   |198  |\n",
      "+-------+-----+\n",
      "only showing top 20 rows\n",
      "\n"
     ]
    }
   ],
   "source": [
    "ratings_per_movie_df = ratings_df.groupBy('movieId').count().orderBy('count', ascending=False)\n",
    "\n",
    "ratings_per_movie_df.show(20, False)"
   ]
  },
  {
   "cell_type": "markdown",
   "id": "7a0f8bc3-4f1e-4067-9080-b9b96256aba0",
   "metadata": {},
   "source": [
    "## 5.5 Map ratings to movies"
   ]
  },
  {
   "cell_type": "code",
   "execution_count": 40,
   "id": "d178bfcb-2c38-441e-8c68-fd8fbd40b40d",
   "metadata": {},
   "outputs": [
    {
     "name": "stdout",
     "output_type": "stream",
     "text": [
      "+-------+-----+-----------------------------------------------------------------------+----+\n",
      "|movieId|count|title                                                                  |year|\n",
      "+-------+-----+-----------------------------------------------------------------------+----+\n",
      "|356    |329  |Forrest Gump                                                           |1994|\n",
      "|318    |317  |Shawshank Redemption, The                                              |1994|\n",
      "|296    |307  |Pulp Fiction                                                           |1994|\n",
      "|593    |279  |Silence of the Lambs, The                                              |1991|\n",
      "|2571   |278  |Matrix, The                                                            |1999|\n",
      "|260    |251  |Star Wars: Episode IV - A New Hope                                     |1977|\n",
      "|480    |238  |Jurassic Park                                                          |1993|\n",
      "|110    |237  |Braveheart                                                             |1995|\n",
      "|589    |224  |Terminator 2: Judgment Day                                             |1991|\n",
      "|527    |220  |Schindler's List                                                       |1993|\n",
      "|2959   |218  |Fight Club                                                             |1999|\n",
      "|1      |215  |Toy Story                                                              |1995|\n",
      "|1196   |211  |Star Wars: Episode V - The Empire Strikes Back                         |1980|\n",
      "|2858   |204  |American Beauty                                                        |1999|\n",
      "|50     |204  |Usual Suspects, The                                                    |1995|\n",
      "|47     |203  |Seven (a.k.a. Se7en)                                                   |1995|\n",
      "|780    |202  |Independence Day (a.k.a. ID4)                                          |1996|\n",
      "|150    |201  |Apollo 13                                                              |1995|\n",
      "|1198   |200  |Raiders of the Lost Ark (Indiana Jones and the Raiders of the Lost Ark)|1981|\n",
      "|4993   |198  |Lord of the Rings: The Fellowship of the Ring, The                     |2001|\n",
      "+-------+-----+-----------------------------------------------------------------------+----+\n",
      "only showing top 20 rows\n",
      "\n"
     ]
    }
   ],
   "source": [
    "ratings_movie_df = ratings_per_movie_df.join(movies_df, on='movieId', how='inner')\n",
    "\n",
    "# ratings_movie_df.orderBy('count', ascending=False).show(20, False)\n",
    "\n",
    "ratings_movie_df.select('movieId', 'count', 'title', 'year').orderBy('count', ascending=False).show(20, False)"
   ]
  },
  {
   "cell_type": "markdown",
   "id": "547df804-a1b3-451e-aa46-ccabc015abd1",
   "metadata": {},
   "source": [
    "## 5.6 Sum of all ratings per movie"
   ]
  },
  {
   "cell_type": "code",
   "execution_count": 54,
   "id": "176b5cc6-e120-4d76-8f7b-a4936fbe0ecc",
   "metadata": {},
   "outputs": [
    {
     "name": "stdout",
     "output_type": "stream",
     "text": [
      "+-------+------------------+\n",
      "|movieId|sum_of_all_ratings|\n",
      "+-------+------------------+\n",
      "|318    |1404.0            |\n",
      "|356    |1370.0            |\n",
      "|296    |1288.5            |\n",
      "|2571   |1165.5            |\n",
      "|593    |1161.0            |\n",
      "|260    |1062.0            |\n",
      "|110    |955.5             |\n",
      "|2959   |931.5             |\n",
      "|527    |929.5             |\n",
      "|480    |892.5             |\n",
      "|1196   |889.5             |\n",
      "|589    |889.5             |\n",
      "|50     |864.5             |\n",
      "|1      |843.0             |\n",
      "|1198   |841.5             |\n",
      "|2858   |827.5             |\n",
      "|858    |823.5             |\n",
      "|4993   |813.0             |\n",
      "|1210   |811.0             |\n",
      "|47     |807.0             |\n",
      "+-------+------------------+\n",
      "only showing top 20 rows\n",
      "\n"
     ]
    }
   ],
   "source": [
    "ratings_sum_per_movie_df = ratings_df.groupBy('movieId').agg(F.sum(col(\"rating\")).alias('sum_of_all_ratings'))\n",
    "\n",
    "ratings_sum_per_movie_df.orderBy('sum_of_all_ratings', ascending=False).show(20, False)"
   ]
  },
  {
   "cell_type": "markdown",
   "id": "7bc5486b-7837-4d69-a660-a7547ac68dab",
   "metadata": {},
   "source": [
    "## 5.7 Top 30 movies by ratings sum"
   ]
  },
  {
   "cell_type": "code",
   "execution_count": 56,
   "id": "05db3d8d-8069-4d5f-8e14-e9f496f93220",
   "metadata": {},
   "outputs": [
    {
     "name": "stdout",
     "output_type": "stream",
     "text": [
      "+-------+------------------+-----------------------------------------------------------------------+----+\n",
      "|movieId|sum_of_all_ratings|title                                                                  |year|\n",
      "+-------+------------------+-----------------------------------------------------------------------+----+\n",
      "|318    |1404.0            |Shawshank Redemption, The                                              |1994|\n",
      "|356    |1370.0            |Forrest Gump                                                           |1994|\n",
      "|296    |1288.5            |Pulp Fiction                                                           |1994|\n",
      "|2571   |1165.5            |Matrix, The                                                            |1999|\n",
      "|593    |1161.0            |Silence of the Lambs, The                                              |1991|\n",
      "|260    |1062.0            |Star Wars: Episode IV - A New Hope                                     |1977|\n",
      "|110    |955.5             |Braveheart                                                             |1995|\n",
      "|2959   |931.5             |Fight Club                                                             |1999|\n",
      "|527    |929.5             |Schindler's List                                                       |1993|\n",
      "|480    |892.5             |Jurassic Park                                                          |1993|\n",
      "|1196   |889.5             |Star Wars: Episode V - The Empire Strikes Back                         |1980|\n",
      "|589    |889.5             |Terminator 2: Judgment Day                                             |1991|\n",
      "|50     |864.5             |Usual Suspects, The                                                    |1995|\n",
      "|1      |843.0             |Toy Story                                                              |1995|\n",
      "|1198   |841.5             |Raiders of the Lost Ark (Indiana Jones and the Raiders of the Lost Ark)|1981|\n",
      "|2858   |827.5             |American Beauty                                                        |1999|\n",
      "|858    |823.5             |Godfather, The                                                         |1972|\n",
      "|4993   |813.0             |Lord of the Rings: The Fellowship of the Ring, The                     |2001|\n",
      "|1210   |811.0             |Star Wars: Episode VI - Return of the Jedi                             |1983|\n",
      "|47     |807.0             |Seven (a.k.a. Se7en)                                                   |1995|\n",
      "|2028   |779.5             |Saving Private Ryan                                                    |1998|\n",
      "|150    |773.0             |Apollo 13                                                              |1995|\n",
      "|7153   |762.0             |Lord of the Rings: The Return of the King, The                         |2003|\n",
      "|457    |758.5             |Fugitive, The                                                          |1993|\n",
      "|5952   |756.0             |Lord of the Rings: The Two Towers, The                                 |2002|\n",
      "|608    |745.0             |Fargo                                                                  |1996|\n",
      "|32     |705.0             |Twelve Monkeys (a.k.a. 12 Monkeys)                                     |1995|\n",
      "|2762   |697.0             |Sixth Sense, The                                                       |1999|\n",
      "|780    |696.0             |Independence Day (a.k.a. ID4)                                          |1996|\n",
      "|588    |694.0             |Aladdin                                                                |1992|\n",
      "+-------+------------------+-----------------------------------------------------------------------+----+\n",
      "only showing top 30 rows\n",
      "\n"
     ]
    }
   ],
   "source": [
    "ratings_sum_movie_df = ratings_sum_per_movie_df.join(movies_df, on='movieId', how='inner')\n",
    "\n",
    "# ratings_sum_movie_df.orderBy('sum_of_all_ratings', ascending=False).show(20, False)\n",
    "\n",
    "ratings_sum_movie_df.select('movieId', 'sum_of_all_ratings', 'title', 'year').orderBy('sum_of_all_ratings', ascending=False).show(30, False)"
   ]
  },
  {
   "cell_type": "markdown",
   "id": "226117e2-959f-4059-a7c0-554dc0611070",
   "metadata": {},
   "source": [
    "## 5.8 Worst 30 movies by ratings sum"
   ]
  },
  {
   "cell_type": "code",
   "execution_count": 57,
   "id": "1ae2469d-87e2-484d-8760-d57850251acc",
   "metadata": {},
   "outputs": [
    {
     "name": "stdout",
     "output_type": "stream",
     "text": [
      "+-------+------------------+-----------------------------------------------------------------------------------------+----+\n",
      "|movieId|sum_of_all_ratings|title                                                                                    |year|\n",
      "+-------+------------------+-----------------------------------------------------------------------------------------+----+\n",
      "|54274  |0.5               |I Know Who Killed Me                                                                     |2007|\n",
      "|4051   |0.5               |Horrors of Spider Island (Ein Toter Hing im Netz)                                        |1960|\n",
      "|86068  |0.5               |Films to Keep You Awake: The Christmas Tale (Películas para no dormir: Cuento de navidad)|2005|\n",
      "|95796  |0.5               |Anaconda: The Offspring                                                                  |2008|\n",
      "|7312   |0.5               |Follow Me, Boys!                                                                         |1966|\n",
      "|110773 |0.5               |Haunted House 2, A                                                                       |2014|\n",
      "|104644 |0.5               |Maria Bamford: The Special Special Special!                                              |2012|\n",
      "|26696  |0.5               |Lionheart                                                                                |1990|\n",
      "|27595  |0.5               |Jesus Christ Vampire Hunter                                                              |2001|\n",
      "|3933   |0.5               |Killer Shrews, The                                                                       |1959|\n",
      "|44243  |0.5               |Leprechaun 4: In Space                                                                   |1997|\n",
      "|173307 |0.5               |The Gracefield Incident                                                                  |2015|\n",
      "|26717  |0.5               |Begotten                                                                                 |1990|\n",
      "|110603 |0.5               |God's Not Dead                                                                           |2014|\n",
      "|8772   |0.5               |Spy Who Came in from the Cold, The                                                       |1965|\n",
      "|138186 |0.5               |Sorrow                                                                                   |2015|\n",
      "|136297 |0.5               |Mortal Kombat: The Journey Begins                                                        |1995|\n",
      "|125221 |0.5               |The Beast of Hollow Mountain                                                             |1956|\n",
      "|4775   |0.5               |Glitter                                                                                  |2001|\n",
      "|5700   |0.5               |The Pumaman                                                                              |1980|\n",
      "|8136   |0.5               |Indestructible Man                                                                       |1956|\n",
      "|134528 |0.5               |Aloha                                                                                    |2015|\n",
      "|7114   |0.5               |Collector, The                                                                           |1965|\n",
      "|122246 |0.5               |Tooth Fairy 2                                                                            |2012|\n",
      "|85334  |0.5               |Hard Ticket to Hawaii                                                                    |1987|\n",
      "|6514   |0.5               |Ring of Terror                                                                           |1962|\n",
      "|145951 |0.5               |Bloodsport: The Dark Kumite                                                              |1999|\n",
      "|26095  |0.5               |Carabineers, The (Carabiniers, Les)                                                      |1963|\n",
      "|151687 |0.5               |Risen                                                                                    |2016|\n",
      "|6557   |0.5               |Born to Be Wild                                                                          |1995|\n",
      "+-------+------------------+-----------------------------------------------------------------------------------------+----+\n",
      "only showing top 30 rows\n",
      "\n"
     ]
    }
   ],
   "source": [
    "ratings_sum_movie_df.select('movieId', 'sum_of_all_ratings', 'title', 'year').orderBy('sum_of_all_ratings', ascending=True).show(30, False)"
   ]
  },
  {
   "cell_type": "markdown",
   "id": "ee54faf0-a1da-4194-be76-ea715ee305ba",
   "metadata": {},
   "source": [
    "## 5.9 Top 5 star rating movies"
   ]
  },
  {
   "cell_type": "code",
   "execution_count": 75,
   "id": "0f848114-a7c5-47e9-a280-2737573b8ce0",
   "metadata": {},
   "outputs": [
    {
     "name": "stdout",
     "output_type": "stream",
     "text": [
      "root\n",
      " |-- movieId: string (nullable = true)\n",
      " |-- count: long (nullable = false)\n",
      "\n",
      "+-------+-----+\n",
      "|movieId|count|\n",
      "+-------+-----+\n",
      "|318    |153  |\n",
      "|296    |123  |\n",
      "|356    |116  |\n",
      "|2571   |109  |\n",
      "|260    |104  |\n",
      "|527    |92   |\n",
      "|593    |92   |\n",
      "|858    |88   |\n",
      "|2959   |81   |\n",
      "|1196   |80   |\n",
      "|110    |80   |\n",
      "|50     |71   |\n",
      "|1198   |69   |\n",
      "|2858   |65   |\n",
      "|1210   |65   |\n",
      "|589    |64   |\n",
      "|4993   |62   |\n",
      "|2028   |61   |\n",
      "|608    |57   |\n",
      "|1197   |55   |\n",
      "+-------+-----+\n",
      "only showing top 20 rows\n",
      "\n"
     ]
    }
   ],
   "source": [
    "ten_star_movie_df = ratings_df.withColumn('rating', col('rating').cast('float'))\n",
    "\n",
    "ten_star_movie_df = ten_star_movie_df.filter(col('rating') == 5.0) \\\n",
    "                                     .groupBy('movieId') \\\n",
    "                                     .count()\n",
    "\n",
    "ten_star_movie_df.printSchema()\n",
    "ten_star_movie_df.orderBy('count', ascending=False).show(20, False)"
   ]
  },
  {
   "cell_type": "code",
   "execution_count": 76,
   "id": "500d9c85-8bf0-4c1f-b3f3-8f8a7570c06f",
   "metadata": {},
   "outputs": [
    {
     "name": "stdout",
     "output_type": "stream",
     "text": [
      "+-------+-----+-----------------------------------------------------------------------+----+\n",
      "|movieId|count|title                                                                  |year|\n",
      "+-------+-----+-----------------------------------------------------------------------+----+\n",
      "|318    |153  |Shawshank Redemption, The                                              |1994|\n",
      "|296    |123  |Pulp Fiction                                                           |1994|\n",
      "|356    |116  |Forrest Gump                                                           |1994|\n",
      "|2571   |109  |Matrix, The                                                            |1999|\n",
      "|260    |104  |Star Wars: Episode IV - A New Hope                                     |1977|\n",
      "|527    |92   |Schindler's List                                                       |1993|\n",
      "|593    |92   |Silence of the Lambs, The                                              |1991|\n",
      "|858    |88   |Godfather, The                                                         |1972|\n",
      "|2959   |81   |Fight Club                                                             |1999|\n",
      "|1196   |80   |Star Wars: Episode V - The Empire Strikes Back                         |1980|\n",
      "|110    |80   |Braveheart                                                             |1995|\n",
      "|50     |71   |Usual Suspects, The                                                    |1995|\n",
      "|1198   |69   |Raiders of the Lost Ark (Indiana Jones and the Raiders of the Lost Ark)|1981|\n",
      "|2858   |65   |American Beauty                                                        |1999|\n",
      "|1210   |65   |Star Wars: Episode VI - Return of the Jedi                             |1983|\n",
      "|589    |64   |Terminator 2: Judgment Day                                             |1991|\n",
      "|4993   |62   |Lord of the Rings: The Fellowship of the Ring, The                     |2001|\n",
      "|2028   |61   |Saving Private Ryan                                                    |1998|\n",
      "|608    |57   |Fargo                                                                  |1996|\n",
      "|1197   |55   |Princess Bride, The                                                    |1987|\n",
      "+-------+-----+-----------------------------------------------------------------------+----+\n",
      "only showing top 20 rows\n",
      "\n"
     ]
    }
   ],
   "source": [
    "ten_star_movie_join_df = ten_star_movie_df.join(movies_df, on='movieId', how='inner')\n",
    "\n",
    "ten_star_movie_join_df.select('movieId', 'count', 'title', 'year').orderBy('count', ascending=False).show(20, False)"
   ]
  },
  {
   "cell_type": "markdown",
   "id": "bae50330-2331-43dc-a653-51098049dd78",
   "metadata": {},
   "source": [
    "# 6. Analyse Links CSV File"
   ]
  },
  {
   "cell_type": "markdown",
   "id": "bb885591-4709-4735-84c8-2af8f03e93e2",
   "metadata": {},
   "source": [
    "## 6.1 Read, Display, Count, PrintSchema()"
   ]
  },
  {
   "cell_type": "code",
   "execution_count": 77,
   "id": "686114f7-1202-4c18-8494-bdf15264e1c8",
   "metadata": {},
   "outputs": [
    {
     "name": "stdout",
     "output_type": "stream",
     "text": [
      "+-------+-------+------+\n",
      "|movieId|imdbId |tmdbId|\n",
      "+-------+-------+------+\n",
      "|1      |0114709|862   |\n",
      "|2      |0113497|8844  |\n",
      "|3      |0113228|15602 |\n",
      "|4      |0114885|31357 |\n",
      "|5      |0113041|11862 |\n",
      "|6      |0113277|949   |\n",
      "|7      |0114319|11860 |\n",
      "|8      |0112302|45325 |\n",
      "|9      |0114576|9091  |\n",
      "|10     |0113189|710   |\n",
      "+-------+-------+------+\n",
      "only showing top 10 rows\n",
      "\n",
      "Links count : 9742\n",
      "root\n",
      " |-- movieId: string (nullable = true)\n",
      " |-- imdbId: string (nullable = true)\n",
      " |-- tmdbId: string (nullable = true)\n",
      "\n"
     ]
    }
   ],
   "source": [
    "links_df = spark.read.csv(links_csv_path, header=\"true\")\n",
    "\n",
    "links_df.show(10, False)\n",
    "\n",
    "print(f\"Links count : {links_df.count()}\")\n",
    "\n",
    "links_df.printSchema()"
   ]
  },
  {
   "cell_type": "markdown",
   "id": "6929d874-05f1-4689-a731-ce288cd43ffb",
   "metadata": {},
   "source": [
    "## 6.2 Distinct count (to be continued)"
   ]
  },
  {
   "cell_type": "code",
   "execution_count": 79,
   "id": "84ca6b05-4247-460d-bf86-92254935b270",
   "metadata": {},
   "outputs": [
    {
     "name": "stdout",
     "output_type": "stream",
     "text": [
      "Movies ID distinct : 9742\n",
      "IMDB ID distinct : 9742\n",
      "TMDBID ID distinct : 9734\n"
     ]
    }
   ],
   "source": [
    "print(f\"Movies ID distinct : {links_df.select('movieId').distinct().count()}\")\n",
    "\n",
    "print(f\"IMDB ID distinct : {links_df.select('imdbId').distinct().count()}\")\n",
    "\n",
    "print(f\"TMDBID ID distinct : {links_df.select('tmdbId').distinct().count()}\")"
   ]
  },
  {
   "cell_type": "markdown",
   "id": "2a776912-0938-4b2f-97a5-912c93fd92a7",
   "metadata": {},
   "source": [
    "# 7 Analysing Tags CSV File (to be continued)"
   ]
  },
  {
   "cell_type": "markdown",
   "id": "d3f7aaff-efd1-4c45-ba89-fd26ed615f33",
   "metadata": {},
   "source": [
    "## 7.1 Read, Display, Count, PrintSchema()"
   ]
  },
  {
   "cell_type": "code",
   "execution_count": 80,
   "id": "946f0ef4-edb6-46c6-9a28-5f77eb84f858",
   "metadata": {},
   "outputs": [
    {
     "name": "stdout",
     "output_type": "stream",
     "text": [
      "+------+-------+-----------------+----------+\n",
      "|userId|movieId|tag              |timestamp |\n",
      "+------+-------+-----------------+----------+\n",
      "|2     |60756  |funny            |1445714994|\n",
      "|2     |60756  |Highly quotable  |1445714996|\n",
      "|2     |60756  |will ferrell     |1445714992|\n",
      "|2     |89774  |Boxing story     |1445715207|\n",
      "|2     |89774  |MMA              |1445715200|\n",
      "|2     |89774  |Tom Hardy        |1445715205|\n",
      "|2     |106782 |drugs            |1445715054|\n",
      "|2     |106782 |Leonardo DiCaprio|1445715051|\n",
      "|2     |106782 |Martin Scorsese  |1445715056|\n",
      "|7     |48516  |way too long     |1169687325|\n",
      "+------+-------+-----------------+----------+\n",
      "only showing top 10 rows\n",
      "\n",
      "Tags count : 3683\n",
      "root\n",
      " |-- userId: string (nullable = true)\n",
      " |-- movieId: string (nullable = true)\n",
      " |-- tag: string (nullable = true)\n",
      " |-- timestamp: string (nullable = true)\n",
      "\n"
     ]
    }
   ],
   "source": [
    "tags_df = spark.read.csv(tags_csv_path, header=\"true\")\n",
    "\n",
    "tags_df.show(10, False)\n",
    "\n",
    "print(f\"Tags count : {tags_df.count()}\")\n",
    "\n",
    "tags_df.printSchema()"
   ]
  },
  {
   "cell_type": "code",
   "execution_count": null,
   "id": "b03bae1c-8ea1-41a1-a317-ffffa9323165",
   "metadata": {},
   "outputs": [],
   "source": []
  }
 ],
 "metadata": {
  "kernelspec": {
   "display_name": "Python 3 (ipykernel)",
   "language": "python",
   "name": "python3"
  },
  "language_info": {
   "codemirror_mode": {
    "name": "ipython",
    "version": 3
   },
   "file_extension": ".py",
   "mimetype": "text/x-python",
   "name": "python",
   "nbconvert_exporter": "python",
   "pygments_lexer": "ipython3",
   "version": "3.12.8"
  }
 },
 "nbformat": 4,
 "nbformat_minor": 5
}
