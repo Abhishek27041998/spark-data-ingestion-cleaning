{
 "cells": [
  {
   "cell_type": "markdown",
   "id": "bf186291-13f0-4577-824e-e0e2e703a9f7",
   "metadata": {},
   "source": [
    "# 1. Import necessary libraries"
   ]
  },
  {
   "cell_type": "code",
   "execution_count": 53,
   "id": "c3ab489b-86e7-4e75-bf92-cc793b106dd3",
   "metadata": {},
   "outputs": [],
   "source": [
    "from pyspark.sql import SparkSession\n",
    "from pyspark.sql.functions import col, regexp_extract, regexp_replace, split"
   ]
  },
  {
   "cell_type": "markdown",
   "id": "5f6ef6f5-0b85-49e0-a9ad-8d18c13ec2e9",
   "metadata": {},
   "source": [
    "# 2. Creating a Spark Session"
   ]
  },
  {
   "cell_type": "code",
   "execution_count": 2,
   "id": "873a7041-a660-45f4-a343-38f8a127e233",
   "metadata": {},
   "outputs": [
    {
     "name": "stderr",
     "output_type": "stream",
     "text": [
      "Setting default log level to \"WARN\".\n",
      "To adjust logging level use sc.setLogLevel(newLevel). For SparkR, use setLogLevel(newLevel).\n",
      "25/02/21 23:22:26 WARN NativeCodeLoader: Unable to load native-hadoop library for your platform... using builtin-java classes where applicable\n"
     ]
    }
   ],
   "source": [
    "spark = SparkSession.builder.appName('data-exploration').getOrCreate()"
   ]
  },
  {
   "cell_type": "markdown",
   "id": "970ed0da-27af-4802-8b61-513b80fe9e3d",
   "metadata": {},
   "source": [
    "# 3. Define CSV file paths"
   ]
  },
  {
   "cell_type": "code",
   "execution_count": 8,
   "id": "5a809ad6-3950-4193-bdd0-3cec005f8a1f",
   "metadata": {},
   "outputs": [
    {
     "name": "stdout",
     "output_type": "stream",
     "text": [
      "File paths are :\n",
      " /Users/test/PycharmProjects/spark-data-ingestion-cleaning/data/raw/ml-latest-small/links.csv \n",
      " /Users/test/PycharmProjects/spark-data-ingestion-cleaning/data/raw/ml-latest-small/movies.csv \n",
      " /Users/test/PycharmProjects/spark-data-ingestion-cleaning/data/raw/ml-latest-small/ratings.csv \n",
      " /Users/test/PycharmProjects/spark-data-ingestion-cleaning/data/raw/ml-latest-small/tags.csv\n"
     ]
    }
   ],
   "source": [
    "import os\n",
    "\n",
    "# Get the current directory\n",
    "current_dir = os.getcwd()\n",
    "\n",
    "# Calculate the base directory (one level up)\n",
    "base_dir = os.path.abspath(os.path.join(current_dir, \"..\"))\n",
    "\n",
    "# Construct the file path in a parameterized way:\n",
    "links_csv_path = os.path.join(base_dir, \"data\", \"raw\", \"ml-latest-small\", \"links.csv\")\n",
    "movies_csv_path = os.path.join(base_dir, \"data\", \"raw\", \"ml-latest-small\", \"movies.csv\")\n",
    "ratings_csv_path = os.path.join(base_dir, \"data\", \"raw\", \"ml-latest-small\", \"ratings.csv\")\n",
    "tags_csv_path = os.path.join(base_dir, \"data\", \"raw\", \"ml-latest-small\", \"tags.csv\")\n",
    "\n",
    "print(\"File paths are :\")\n",
    "print(f\" {links_csv_path} \\n {movies_csv_path} \\n {ratings_csv_path} \\n {tags_csv_path}\")"
   ]
  },
  {
   "cell_type": "markdown",
   "id": "e753fd3a-601a-4087-b5ad-0555189d504b",
   "metadata": {},
   "source": [
    "# 4. Analysing Movies CSV file"
   ]
  },
  {
   "cell_type": "markdown",
   "id": "a4ef8bc7-f822-49fc-b1a3-0689d0e2ab15",
   "metadata": {},
   "source": [
    "## 4.1 Read and display sample & count"
   ]
  },
  {
   "cell_type": "code",
   "execution_count": 57,
   "id": "4eb5369a-3c4a-49a6-bf8d-1bfdcc4e7fc3",
   "metadata": {},
   "outputs": [
    {
     "name": "stdout",
     "output_type": "stream",
     "text": [
      "+-------+----------------------------------+-------------------------------------------+\n",
      "|movieId|title                             |genres                                     |\n",
      "+-------+----------------------------------+-------------------------------------------+\n",
      "|1      |Toy Story (1995)                  |Adventure|Animation|Children|Comedy|Fantasy|\n",
      "|2      |Jumanji (1995)                    |Adventure|Children|Fantasy                 |\n",
      "|3      |Grumpier Old Men (1995)           |Comedy|Romance                             |\n",
      "|4      |Waiting to Exhale (1995)          |Comedy|Drama|Romance                       |\n",
      "|5      |Father of the Bride Part II (1995)|Comedy                                     |\n",
      "|6      |Heat (1995)                       |Action|Crime|Thriller                      |\n",
      "|7      |Sabrina (1995)                    |Comedy|Romance                             |\n",
      "|8      |Tom and Huck (1995)               |Adventure|Children                         |\n",
      "|9      |Sudden Death (1995)               |Action                                     |\n",
      "|10     |GoldenEye (1995)                  |Action|Adventure|Thriller                  |\n",
      "+-------+----------------------------------+-------------------------------------------+\n",
      "only showing top 10 rows\n",
      "\n",
      "Movies count : 9742\n"
     ]
    }
   ],
   "source": [
    "movies_df = spark.read.csv(movies_csv_path, header=\"true\")\n",
    "\n",
    "movies_df.show(10, False)\n",
    "\n",
    "print(f\"Movies count : {movies_df.count()}\")"
   ]
  },
  {
   "cell_type": "markdown",
   "id": "e64723bc-e474-430e-96c4-ed75dfdb188b",
   "metadata": {},
   "source": [
    "## 4.2 Verify distinct matches count"
   ]
  },
  {
   "cell_type": "code",
   "execution_count": 17,
   "id": "b2ccc67b-5f66-4f18-9185-4ac62ed378ac",
   "metadata": {},
   "outputs": [
    {
     "name": "stdout",
     "output_type": "stream",
     "text": [
      "Movies distinct count : 9742\n",
      "Movies 'movieId' distinct count : 9742\n",
      "Movies 'title' distinct count : 9737 (---different)\n",
      "Movies 'genres' distinct count : 951 (--can have duplicates)\n"
     ]
    }
   ],
   "source": [
    "print(f\"Movies distinct count : {movies_df.distinct().count()}\")\n",
    "\n",
    "print(f\"Movies 'movieId' distinct count : {movies_df.select('movieId').distinct().count()}\")\n",
    "\n",
    "print(f\"Movies 'title' distinct count : {movies_df.select('title').distinct().count()} (---different)\")\n",
    "\n",
    "print(f\"Movies 'genres' distinct count : {movies_df.select('genres').distinct().count()} (--can have duplicates)\")"
   ]
  },
  {
   "cell_type": "markdown",
   "id": "94cb127c-7679-4ad5-a94f-b3193fd2824c",
   "metadata": {},
   "source": [
    "## 4.3 Lets analyse duplicate titles"
   ]
  },
  {
   "cell_type": "code",
   "execution_count": 32,
   "id": "5899d457-bf7f-45e1-b502-baaf9afa1eb5",
   "metadata": {},
   "outputs": [
    {
     "name": "stdout",
     "output_type": "stream",
     "text": [
      "Titles that are duplicates are \n",
      "+--------------------------------------+-----+\n",
      "|title                                 |count|\n",
      "+--------------------------------------+-----+\n",
      "|Eros (2004)                           |2    |\n",
      "|Confessions of a Dangerous Mind (2002)|2    |\n",
      "|Emma (1996)                           |2    |\n",
      "|Saturn 3 (1980)                       |2    |\n",
      "|War of the Worlds (2005)              |2    |\n",
      "|Fair Game (1995)                      |1    |\n",
      "|If Lucy Fell (1996)                   |1    |\n",
      "|Three Wishes (1995)                   |1    |\n",
      "|Heavenly Creatures (1994)             |1    |\n",
      "|Snow White and the Seven Dwarfs (1937)|1    |\n",
      "+--------------------------------------+-----+\n",
      "only showing top 10 rows\n",
      "\n"
     ]
    }
   ],
   "source": [
    "print(\"Titles that are duplicates are \")\n",
    "\n",
    "duplicate_titles_df = movies_df.groupBy('title').count().orderBy('count', ascending=False)\n",
    "\n",
    "duplicate_titles_df.show(10, False)"
   ]
  },
  {
   "cell_type": "code",
   "execution_count": 40,
   "id": "2ae35af2-c585-4532-88b6-e42c586d9415",
   "metadata": {},
   "outputs": [
    {
     "name": "stdout",
     "output_type": "stream",
     "text": [
      "+-------+--------------------------------------+-----------------------------------+\n",
      "|movieId|title                                 |genres                             |\n",
      "+-------+--------------------------------------+-----------------------------------+\n",
      "|6003   |Confessions of a Dangerous Mind (2002)|Comedy|Crime|Drama|Thriller        |\n",
      "|144606 |Confessions of a Dangerous Mind (2002)|Comedy|Crime|Drama|Romance|Thriller|\n",
      "|838    |Emma (1996)                           |Comedy|Drama|Romance               |\n",
      "|26958  |Emma (1996)                           |Romance                            |\n",
      "|32600  |Eros (2004)                           |Drama                              |\n",
      "|147002 |Eros (2004)                           |Drama|Romance                      |\n",
      "|2851   |Saturn 3 (1980)                       |Adventure|Sci-Fi|Thriller          |\n",
      "|168358 |Saturn 3 (1980)                       |Sci-Fi|Thriller                    |\n",
      "|34048  |War of the Worlds (2005)              |Action|Adventure|Sci-Fi|Thriller   |\n",
      "|64997  |War of the Worlds (2005)              |Action|Sci-Fi                      |\n",
      "+-------+--------------------------------------+-----------------------------------+\n",
      "\n",
      "Movies have same titles but different slight different genres\n"
     ]
    }
   ],
   "source": [
    "# Lets see the duplicate title rows\n",
    "duplicate_titles = duplicate_titles_df.filter(col('count') > 1).select('title').collect()\n",
    "\n",
    "duplicate_titles = [row['title'] for row in duplicate_titles]\n",
    "\n",
    "movies_df.filter(col('title').isin(duplicate_titles)).orderBy('title').show(20, False)\n",
    "\n",
    "print('Movies have same titles but different slight different genres')"
   ]
  },
  {
   "cell_type": "markdown",
   "id": "8add9641-b42c-4b64-9ba6-0e24b135c9f5",
   "metadata": {},
   "source": [
    "## 4.4 Top 20 Genres"
   ]
  },
  {
   "cell_type": "code",
   "execution_count": 30,
   "id": "020e51db-48cd-4c0c-bdc6-f2996d2dedfe",
   "metadata": {},
   "outputs": [
    {
     "name": "stdout",
     "output_type": "stream",
     "text": [
      "Top 20 genres are \n",
      "+-----------------------+-----+\n",
      "|genres                 |count|\n",
      "+-----------------------+-----+\n",
      "|Drama                  |1053 |\n",
      "|Comedy                 |946  |\n",
      "|Comedy|Drama           |435  |\n",
      "|Comedy|Romance         |363  |\n",
      "|Drama|Romance          |349  |\n",
      "|Documentary            |339  |\n",
      "|Comedy|Drama|Romance   |276  |\n",
      "|Drama|Thriller         |168  |\n",
      "|Horror                 |167  |\n",
      "|Horror|Thriller        |135  |\n",
      "|Crime|Drama            |134  |\n",
      "|Crime|Drama|Thriller   |125  |\n",
      "|Drama|War              |114  |\n",
      "|Comedy|Crime           |101  |\n",
      "|Action|Comedy          |92   |\n",
      "|Thriller               |84   |\n",
      "|Children|Comedy        |74   |\n",
      "|Comedy|Horror          |69   |\n",
      "|Action|Crime|Thriller  |66   |\n",
      "|Action|Adventure|Sci-Fi|66   |\n",
      "+-----------------------+-----+\n",
      "only showing top 20 rows\n",
      "\n"
     ]
    }
   ],
   "source": [
    "print(\"Top 20 genres are \")\n",
    "\n",
    "movies_df.groupBy('genres').count().orderBy('count', ascending=False).show(20, False)"
   ]
  },
  {
   "cell_type": "markdown",
   "id": "91c45434-fe2e-43d5-afff-1cf349d6825f",
   "metadata": {},
   "source": [
    "## 4.5 Extract year from title"
   ]
  },
  {
   "cell_type": "code",
   "execution_count": 58,
   "id": "fc48b756-44cf-49ad-a7b8-ce480b8439cc",
   "metadata": {},
   "outputs": [
    {
     "name": "stdout",
     "output_type": "stream",
     "text": [
      "+-------+--------------------+--------------------+----+\n",
      "|movieId|               title|              genres|year|\n",
      "+-------+--------------------+--------------------+----+\n",
      "|      1|    Toy Story (1995)|Adventure|Animati...|1995|\n",
      "|      2|      Jumanji (1995)|Adventure|Childre...|1995|\n",
      "|      3|Grumpier Old Men ...|      Comedy|Romance|1995|\n",
      "|      4|Waiting to Exhale...|Comedy|Drama|Romance|1995|\n",
      "|      5|Father of the Bri...|              Comedy|1995|\n",
      "|      6|         Heat (1995)|Action|Crime|Thri...|1995|\n",
      "|      7|      Sabrina (1995)|      Comedy|Romance|1995|\n",
      "|      8| Tom and Huck (1995)|  Adventure|Children|1995|\n",
      "|      9| Sudden Death (1995)|              Action|1995|\n",
      "|     10|    GoldenEye (1995)|Action|Adventure|...|1995|\n",
      "|     11|American Presiden...|Comedy|Drama|Romance|1995|\n",
      "|     12|Dracula: Dead and...|       Comedy|Horror|1995|\n",
      "|     13|        Balto (1995)|Adventure|Animati...|1995|\n",
      "|     14|        Nixon (1995)|               Drama|1995|\n",
      "|     15|Cutthroat Island ...|Action|Adventure|...|1995|\n",
      "|     16|       Casino (1995)|         Crime|Drama|1995|\n",
      "|     17|Sense and Sensibi...|       Drama|Romance|1995|\n",
      "|     18|   Four Rooms (1995)|              Comedy|1995|\n",
      "|     19|Ace Ventura: When...|              Comedy|1995|\n",
      "|     20|  Money Train (1995)|Action|Comedy|Cri...|1995|\n",
      "+-------+--------------------+--------------------+----+\n",
      "only showing top 20 rows\n",
      "\n",
      "root\n",
      " |-- movieId: string (nullable = true)\n",
      " |-- title: string (nullable = true)\n",
      " |-- genres: string (nullable = true)\n",
      " |-- year: integer (nullable = true)\n",
      "\n"
     ]
    }
   ],
   "source": [
    "movies_df = movies_df.withColumn(\"year\", regexp_extract(\"title\", r\"\\((\\d{4})\\)\", 1).cast('int'))\n",
    "movies_df.show()\n",
    "movies_df.printSchema()"
   ]
  },
  {
   "cell_type": "markdown",
   "id": "7a6559ce-2801-4fae-915e-1b9bb71d76aa",
   "metadata": {},
   "source": [
    "## 4.6 Update title"
   ]
  },
  {
   "cell_type": "code",
   "execution_count": 59,
   "id": "7775d8ac-b594-4a23-907c-67b030dc882a",
   "metadata": {},
   "outputs": [
    {
     "name": "stdout",
     "output_type": "stream",
     "text": [
      "+-------+------------------------------+-------------------------------------------+----+\n",
      "|movieId|title                         |genres                                     |year|\n",
      "+-------+------------------------------+-------------------------------------------+----+\n",
      "|1      |Toy Story                     |Adventure|Animation|Children|Comedy|Fantasy|1995|\n",
      "|2      |Jumanji                       |Adventure|Children|Fantasy                 |1995|\n",
      "|3      |Grumpier Old Men              |Comedy|Romance                             |1995|\n",
      "|4      |Waiting to Exhale             |Comedy|Drama|Romance                       |1995|\n",
      "|5      |Father of the Bride Part II   |Comedy                                     |1995|\n",
      "|6      |Heat                          |Action|Crime|Thriller                      |1995|\n",
      "|7      |Sabrina                       |Comedy|Romance                             |1995|\n",
      "|8      |Tom and Huck                  |Adventure|Children                         |1995|\n",
      "|9      |Sudden Death                  |Action                                     |1995|\n",
      "|10     |GoldenEye                     |Action|Adventure|Thriller                  |1995|\n",
      "|11     |American President, The       |Comedy|Drama|Romance                       |1995|\n",
      "|12     |Dracula: Dead and Loving It   |Comedy|Horror                              |1995|\n",
      "|13     |Balto                         |Adventure|Animation|Children               |1995|\n",
      "|14     |Nixon                         |Drama                                      |1995|\n",
      "|15     |Cutthroat Island              |Action|Adventure|Romance                   |1995|\n",
      "|16     |Casino                        |Crime|Drama                                |1995|\n",
      "|17     |Sense and Sensibility         |Drama|Romance                              |1995|\n",
      "|18     |Four Rooms                    |Comedy                                     |1995|\n",
      "|19     |Ace Ventura: When Nature Calls|Comedy                                     |1995|\n",
      "|20     |Money Train                   |Action|Comedy|Crime|Drama|Thriller         |1995|\n",
      "+-------+------------------------------+-------------------------------------------+----+\n",
      "only showing top 20 rows\n",
      "\n",
      "root\n",
      " |-- movieId: string (nullable = true)\n",
      " |-- title: string (nullable = true)\n",
      " |-- genres: string (nullable = true)\n",
      " |-- year: integer (nullable = true)\n",
      "\n"
     ]
    }
   ],
   "source": [
    "movies_df = movies_df.withColumn(\"title\", regexp_replace(\"title\", r\"\\s*\\(\\d{4}\\)\", \"\"))\n",
    "movies_df.show(truncate=False)\n",
    "movies_df.printSchema()"
   ]
  },
  {
   "cell_type": "markdown",
   "id": "c912c36f-47f2-4d1b-a4ef-2c07cb902a26",
   "metadata": {},
   "source": [
    "## 4.7 Update genres to array of string field"
   ]
  },
  {
   "cell_type": "code",
   "execution_count": 60,
   "id": "31280e07-51ad-4800-a78d-5717a767ca65",
   "metadata": {},
   "outputs": [
    {
     "name": "stdout",
     "output_type": "stream",
     "text": [
      "+-------+------------------------------+-------------------------------------------------+----+\n",
      "|movieId|title                         |genres                                           |year|\n",
      "+-------+------------------------------+-------------------------------------------------+----+\n",
      "|1      |Toy Story                     |[Adventure, Animation, Children, Comedy, Fantasy]|1995|\n",
      "|2      |Jumanji                       |[Adventure, Children, Fantasy]                   |1995|\n",
      "|3      |Grumpier Old Men              |[Comedy, Romance]                                |1995|\n",
      "|4      |Waiting to Exhale             |[Comedy, Drama, Romance]                         |1995|\n",
      "|5      |Father of the Bride Part II   |[Comedy]                                         |1995|\n",
      "|6      |Heat                          |[Action, Crime, Thriller]                        |1995|\n",
      "|7      |Sabrina                       |[Comedy, Romance]                                |1995|\n",
      "|8      |Tom and Huck                  |[Adventure, Children]                            |1995|\n",
      "|9      |Sudden Death                  |[Action]                                         |1995|\n",
      "|10     |GoldenEye                     |[Action, Adventure, Thriller]                    |1995|\n",
      "|11     |American President, The       |[Comedy, Drama, Romance]                         |1995|\n",
      "|12     |Dracula: Dead and Loving It   |[Comedy, Horror]                                 |1995|\n",
      "|13     |Balto                         |[Adventure, Animation, Children]                 |1995|\n",
      "|14     |Nixon                         |[Drama]                                          |1995|\n",
      "|15     |Cutthroat Island              |[Action, Adventure, Romance]                     |1995|\n",
      "|16     |Casino                        |[Crime, Drama]                                   |1995|\n",
      "|17     |Sense and Sensibility         |[Drama, Romance]                                 |1995|\n",
      "|18     |Four Rooms                    |[Comedy]                                         |1995|\n",
      "|19     |Ace Ventura: When Nature Calls|[Comedy]                                         |1995|\n",
      "|20     |Money Train                   |[Action, Comedy, Crime, Drama, Thriller]         |1995|\n",
      "+-------+------------------------------+-------------------------------------------------+----+\n",
      "only showing top 20 rows\n",
      "\n",
      "root\n",
      " |-- movieId: string (nullable = true)\n",
      " |-- title: string (nullable = true)\n",
      " |-- genres: array (nullable = true)\n",
      " |    |-- element: string (containsNull = false)\n",
      " |-- year: integer (nullable = true)\n",
      "\n"
     ]
    },
    {
     "name": "stderr",
     "output_type": "stream",
     "text": [
      "<>:1: SyntaxWarning: invalid escape sequence '\\|'\n",
      "<>:1: SyntaxWarning: invalid escape sequence '\\|'\n",
      "/var/folders/6p/9_tr2qd547z3qqk4y2m03bn40000gn/T/ipykernel_2429/2816293204.py:1: SyntaxWarning: invalid escape sequence '\\|'\n",
      "  movies_df = movies_df.withColumn(\"genres\", split(\"genres\", \"\\|\"))\n"
     ]
    }
   ],
   "source": [
    "movies_df = movies_df.withColumn(\"genres\", split(\"genres\", \"\\|\"))\n",
    "\n",
    "movies_df.show(truncate=False)\n",
    "movies_df.printSchema()"
   ]
  },
  {
   "cell_type": "code",
   "execution_count": null,
   "id": "8df3cd01-9ca2-48bb-9e25-ee90dced1a8b",
   "metadata": {},
   "outputs": [],
   "source": []
  }
 ],
 "metadata": {
  "kernelspec": {
   "display_name": "Python 3 (ipykernel)",
   "language": "python",
   "name": "python3"
  },
  "language_info": {
   "codemirror_mode": {
    "name": "ipython",
    "version": 3
   },
   "file_extension": ".py",
   "mimetype": "text/x-python",
   "name": "python",
   "nbconvert_exporter": "python",
   "pygments_lexer": "ipython3",
   "version": "3.12.8"
  }
 },
 "nbformat": 4,
 "nbformat_minor": 5
}
